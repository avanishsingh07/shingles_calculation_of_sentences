{
 "cells": [
  {
   "cell_type": "code",
   "execution_count": 1,
   "id": "b602bf4c",
   "metadata": {},
   "outputs": [],
   "source": [
    "import pyfiglet\n",
    "  \n",
    "avanish = pyfiglet.figlet_format(\"Avanish\", font = \"slant\" )"
   ]
  },
  {
   "cell_type": "code",
   "execution_count": 2,
   "id": "d8cc8f1a",
   "metadata": {},
   "outputs": [
    {
     "name": "stdout",
     "output_type": "stream",
     "text": [
      "    ___                    _      __  \n",
      "   /   |_   ______ _____  (_)____/ /_ \n",
      "  / /| | | / / __ `/ __ \\/ / ___/ __ \\\n",
      " / ___ | |/ / /_/ / / / / (__  ) / / /\n",
      "/_/  |_|___/\\__,_/_/ /_/_/____/_/ /_/ \n",
      "                                      \n",
      "\n"
     ]
    }
   ],
   "source": [
    "print(avanish)"
   ]
  },
  {
   "cell_type": "code",
   "execution_count": 3,
   "id": "fcdcdabc",
   "metadata": {},
   "outputs": [],
   "source": [
    "d1 = \"I am Sam \"\n",
    "d2 = \"Sam I am \"\n",
    "d3 = \"I do not like green eggs and ham \"\n",
    "d4 = \"I do not like them, Sam I am \""
   ]
  },
  {
   "cell_type": "code",
   "execution_count": 4,
   "id": "bcafe466",
   "metadata": {},
   "outputs": [],
   "source": [
    "def shingles_k1(text):\n",
    "    return (text.split())\n"
   ]
  },
  {
   "cell_type": "code",
   "execution_count": 5,
   "id": "ef3d3a73",
   "metadata": {},
   "outputs": [],
   "source": [
    "def shingles_k2(text):\n",
    "    l=[]\n",
    "    words = text.split()\n",
    "    pairs = [words[i]+' '+words[i+1] for i in range(len(words)-1)]\n",
    "    l.append(pairs)\n",
    "    return l"
   ]
  },
  {
   "cell_type": "code",
   "execution_count": 6,
   "id": "30c533d3",
   "metadata": {},
   "outputs": [],
   "source": [
    "def shingles_k3(text):\n",
    "    l=[]\n",
    "    words = text.split()\n",
    "    \n",
    "    pairs = [words[i]+' '+words[i+1]+' '+words[i+2] for i in range(len(words)-2)]\n",
    "    l.append(pairs)\n",
    "    return l"
   ]
  },
  {
   "cell_type": "code",
   "execution_count": 7,
   "id": "3e04ce34",
   "metadata": {},
   "outputs": [],
   "source": [
    "union_doc = d1+d2+d3+d4"
   ]
  },
  {
   "cell_type": "code",
   "execution_count": 8,
   "id": "48c16560",
   "metadata": {},
   "outputs": [
    {
     "data": {
      "text/plain": [
       "['I',\n",
       " 'am',\n",
       " 'Sam',\n",
       " 'Sam',\n",
       " 'I',\n",
       " 'am',\n",
       " 'I',\n",
       " 'do',\n",
       " 'not',\n",
       " 'like',\n",
       " 'green',\n",
       " 'eggs',\n",
       " 'and',\n",
       " 'ham',\n",
       " 'I',\n",
       " 'do',\n",
       " 'not',\n",
       " 'like',\n",
       " 'them,',\n",
       " 'Sam',\n",
       " 'I',\n",
       " 'am']"
      ]
     },
     "execution_count": 8,
     "metadata": {},
     "output_type": "execute_result"
    }
   ],
   "source": [
    "shingles_k1(union_doc)"
   ]
  },
  {
   "cell_type": "code",
   "execution_count": 9,
   "id": "39a259b2",
   "metadata": {},
   "outputs": [
    {
     "data": {
      "text/plain": [
       "[['I am',\n",
       "  'am Sam',\n",
       "  'Sam Sam',\n",
       "  'Sam I',\n",
       "  'I am',\n",
       "  'am I',\n",
       "  'I do',\n",
       "  'do not',\n",
       "  'not like',\n",
       "  'like green',\n",
       "  'green eggs',\n",
       "  'eggs and',\n",
       "  'and ham',\n",
       "  'ham I',\n",
       "  'I do',\n",
       "  'do not',\n",
       "  'not like',\n",
       "  'like them,',\n",
       "  'them, Sam',\n",
       "  'Sam I',\n",
       "  'I am']]"
      ]
     },
     "execution_count": 9,
     "metadata": {},
     "output_type": "execute_result"
    }
   ],
   "source": [
    "shingles_k2(union_doc)"
   ]
  },
  {
   "cell_type": "code",
   "execution_count": 10,
   "id": "5e5f4382",
   "metadata": {},
   "outputs": [
    {
     "data": {
      "text/plain": [
       "[['I am Sam',\n",
       "  'am Sam Sam',\n",
       "  'Sam Sam I',\n",
       "  'Sam I am',\n",
       "  'I am I',\n",
       "  'am I do',\n",
       "  'I do not',\n",
       "  'do not like',\n",
       "  'not like green',\n",
       "  'like green eggs',\n",
       "  'green eggs and',\n",
       "  'eggs and ham',\n",
       "  'and ham I',\n",
       "  'ham I do',\n",
       "  'I do not',\n",
       "  'do not like',\n",
       "  'not like them,',\n",
       "  'like them, Sam',\n",
       "  'them, Sam I',\n",
       "  'Sam I am']]"
      ]
     },
     "execution_count": 10,
     "metadata": {},
     "output_type": "execute_result"
    }
   ],
   "source": [
    "shingles_k3(union_doc)"
   ]
  },
  {
   "cell_type": "code",
   "execution_count": null,
   "id": "8e0366cc",
   "metadata": {},
   "outputs": [],
   "source": []
  }
 ],
 "metadata": {
  "kernelspec": {
   "display_name": "Python 3",
   "language": "python",
   "name": "python3"
  },
  "language_info": {
   "codemirror_mode": {
    "name": "ipython",
    "version": 3
   },
   "file_extension": ".py",
   "mimetype": "text/x-python",
   "name": "python",
   "nbconvert_exporter": "python",
   "pygments_lexer": "ipython3",
   "version": "3.8.8"
  }
 },
 "nbformat": 4,
 "nbformat_minor": 5
}
